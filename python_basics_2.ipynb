{
 "cells": [
  {
   "cell_type": "markdown",
   "id": "183acb9c-2faf-4703-9bb5-373f4e222880",
   "metadata": {},
   "source": [
    "# Lab Sheet : 2"
   ]
  },
  {
   "cell_type": "code",
   "execution_count": 2,
   "id": "8f6c8d06-df6e-4642-a61d-be4da7b83760",
   "metadata": {},
   "outputs": [],
   "source": [
    "import pandas as pd\n",
    "import numpy as np\n",
    "import os"
   ]
  },
  {
   "cell_type": "code",
   "execution_count": 2,
   "id": "049d5409-1223-49cc-b19b-fc1377f7e9fa",
   "metadata": {},
   "outputs": [
    {
     "data": {
      "text/plain": [
       "array([0, 1, 2, 3, 4, 5, 6, 7])"
      ]
     },
     "execution_count": 2,
     "metadata": {},
     "output_type": "execute_result"
    }
   ],
   "source": [
    "np.arange(8)"
   ]
  },
  {
   "cell_type": "code",
   "execution_count": 7,
   "id": "92c7a10c-6cde-432f-b162-dec7cd12da02",
   "metadata": {},
   "outputs": [
    {
     "data": {
      "text/plain": [
       "'C:\\\\Users\\\\vijes\\\\OneDrive\\\\Desktop\\\\Jupyter\\\\ECE_Lab_ML'"
      ]
     },
     "execution_count": 7,
     "metadata": {},
     "output_type": "execute_result"
    }
   ],
   "source": [
    "os.getcwd()"
   ]
  },
  {
   "cell_type": "markdown",
   "id": "60101cbb-baa2-4c6a-a463-ba29b15d3657",
   "metadata": {},
   "source": [
    "# Exercise 1 :"
   ]
  },
  {
   "cell_type": "code",
   "execution_count": 13,
   "id": "c7ae7dee-ba21-4ab5-98c2-04cb5109d8c5",
   "metadata": {},
   "outputs": [
    {
     "data": {
      "text/plain": [
       "pandas.core.frame.DataFrame"
      ]
     },
     "execution_count": 13,
     "metadata": {},
     "output_type": "execute_result"
    }
   ],
   "source": [
    "data = pd.read_csv(\"C:/Users/vijes/Downloads/ML_s4_LAB/labsheet(2)/house_train (1).csv\")\n",
    "type(data)"
   ]
  },
  {
   "cell_type": "code",
   "execution_count": 29,
   "id": "d6f0ef1a-131d-4ca1-9c8a-e0ab6b930cb3",
   "metadata": {},
   "outputs": [
    {
     "name": "stdout",
     "output_type": "stream",
     "text": [
      "Number of rows and columns in the dataset : \n"
     ]
    },
    {
     "data": {
      "text/plain": [
       "(1460, 81)"
      ]
     },
     "execution_count": 29,
     "metadata": {},
     "output_type": "execute_result"
    }
   ],
   "source": [
    "print(\"Number of rows and columns in the dataset : \")\n",
    "data.shape"
   ]
  },
  {
   "cell_type": "code",
   "execution_count": 28,
   "id": "76ca1f27-ce22-4116-a7bd-f557c5e9feab",
   "metadata": {},
   "outputs": [
    {
     "name": "stdout",
     "output_type": "stream",
     "text": [
      "First 5 rows of the data : \n"
     ]
    },
    {
     "data": {
      "text/html": [
       "<div>\n",
       "<style scoped>\n",
       "    .dataframe tbody tr th:only-of-type {\n",
       "        vertical-align: middle;\n",
       "    }\n",
       "\n",
       "    .dataframe tbody tr th {\n",
       "        vertical-align: top;\n",
       "    }\n",
       "\n",
       "    .dataframe thead th {\n",
       "        text-align: right;\n",
       "    }\n",
       "</style>\n",
       "<table border=\"1\" class=\"dataframe\">\n",
       "  <thead>\n",
       "    <tr style=\"text-align: right;\">\n",
       "      <th></th>\n",
       "      <th>Id</th>\n",
       "      <th>MSSubClass</th>\n",
       "      <th>MSZoning</th>\n",
       "      <th>LotFrontage</th>\n",
       "      <th>LotArea</th>\n",
       "      <th>Street</th>\n",
       "      <th>Alley</th>\n",
       "      <th>LotShape</th>\n",
       "      <th>LandContour</th>\n",
       "      <th>Utilities</th>\n",
       "      <th>...</th>\n",
       "      <th>PoolArea</th>\n",
       "      <th>PoolQC</th>\n",
       "      <th>Fence</th>\n",
       "      <th>MiscFeature</th>\n",
       "      <th>MiscVal</th>\n",
       "      <th>MoSold</th>\n",
       "      <th>YrSold</th>\n",
       "      <th>SaleType</th>\n",
       "      <th>SaleCondition</th>\n",
       "      <th>SalePrice</th>\n",
       "    </tr>\n",
       "  </thead>\n",
       "  <tbody>\n",
       "    <tr>\n",
       "      <th>0</th>\n",
       "      <td>1</td>\n",
       "      <td>60</td>\n",
       "      <td>RL</td>\n",
       "      <td>65.0</td>\n",
       "      <td>8450</td>\n",
       "      <td>Pave</td>\n",
       "      <td>NaN</td>\n",
       "      <td>Reg</td>\n",
       "      <td>Lvl</td>\n",
       "      <td>AllPub</td>\n",
       "      <td>...</td>\n",
       "      <td>0</td>\n",
       "      <td>NaN</td>\n",
       "      <td>NaN</td>\n",
       "      <td>NaN</td>\n",
       "      <td>0</td>\n",
       "      <td>2</td>\n",
       "      <td>2008</td>\n",
       "      <td>WD</td>\n",
       "      <td>Normal</td>\n",
       "      <td>208500</td>\n",
       "    </tr>\n",
       "    <tr>\n",
       "      <th>1</th>\n",
       "      <td>2</td>\n",
       "      <td>20</td>\n",
       "      <td>RL</td>\n",
       "      <td>80.0</td>\n",
       "      <td>9600</td>\n",
       "      <td>Pave</td>\n",
       "      <td>NaN</td>\n",
       "      <td>Reg</td>\n",
       "      <td>Lvl</td>\n",
       "      <td>AllPub</td>\n",
       "      <td>...</td>\n",
       "      <td>0</td>\n",
       "      <td>NaN</td>\n",
       "      <td>NaN</td>\n",
       "      <td>NaN</td>\n",
       "      <td>0</td>\n",
       "      <td>5</td>\n",
       "      <td>2007</td>\n",
       "      <td>WD</td>\n",
       "      <td>Normal</td>\n",
       "      <td>181500</td>\n",
       "    </tr>\n",
       "    <tr>\n",
       "      <th>2</th>\n",
       "      <td>3</td>\n",
       "      <td>60</td>\n",
       "      <td>RL</td>\n",
       "      <td>68.0</td>\n",
       "      <td>11250</td>\n",
       "      <td>Pave</td>\n",
       "      <td>NaN</td>\n",
       "      <td>IR1</td>\n",
       "      <td>Lvl</td>\n",
       "      <td>AllPub</td>\n",
       "      <td>...</td>\n",
       "      <td>0</td>\n",
       "      <td>NaN</td>\n",
       "      <td>NaN</td>\n",
       "      <td>NaN</td>\n",
       "      <td>0</td>\n",
       "      <td>9</td>\n",
       "      <td>2008</td>\n",
       "      <td>WD</td>\n",
       "      <td>Normal</td>\n",
       "      <td>223500</td>\n",
       "    </tr>\n",
       "    <tr>\n",
       "      <th>3</th>\n",
       "      <td>4</td>\n",
       "      <td>70</td>\n",
       "      <td>RL</td>\n",
       "      <td>60.0</td>\n",
       "      <td>9550</td>\n",
       "      <td>Pave</td>\n",
       "      <td>NaN</td>\n",
       "      <td>IR1</td>\n",
       "      <td>Lvl</td>\n",
       "      <td>AllPub</td>\n",
       "      <td>...</td>\n",
       "      <td>0</td>\n",
       "      <td>NaN</td>\n",
       "      <td>NaN</td>\n",
       "      <td>NaN</td>\n",
       "      <td>0</td>\n",
       "      <td>2</td>\n",
       "      <td>2006</td>\n",
       "      <td>WD</td>\n",
       "      <td>Abnorml</td>\n",
       "      <td>140000</td>\n",
       "    </tr>\n",
       "    <tr>\n",
       "      <th>4</th>\n",
       "      <td>5</td>\n",
       "      <td>60</td>\n",
       "      <td>RL</td>\n",
       "      <td>84.0</td>\n",
       "      <td>14260</td>\n",
       "      <td>Pave</td>\n",
       "      <td>NaN</td>\n",
       "      <td>IR1</td>\n",
       "      <td>Lvl</td>\n",
       "      <td>AllPub</td>\n",
       "      <td>...</td>\n",
       "      <td>0</td>\n",
       "      <td>NaN</td>\n",
       "      <td>NaN</td>\n",
       "      <td>NaN</td>\n",
       "      <td>0</td>\n",
       "      <td>12</td>\n",
       "      <td>2008</td>\n",
       "      <td>WD</td>\n",
       "      <td>Normal</td>\n",
       "      <td>250000</td>\n",
       "    </tr>\n",
       "  </tbody>\n",
       "</table>\n",
       "<p>5 rows × 81 columns</p>\n",
       "</div>"
      ],
      "text/plain": [
       "   Id  MSSubClass MSZoning  LotFrontage  LotArea Street Alley LotShape  \\\n",
       "0   1          60       RL         65.0     8450   Pave   NaN      Reg   \n",
       "1   2          20       RL         80.0     9600   Pave   NaN      Reg   \n",
       "2   3          60       RL         68.0    11250   Pave   NaN      IR1   \n",
       "3   4          70       RL         60.0     9550   Pave   NaN      IR1   \n",
       "4   5          60       RL         84.0    14260   Pave   NaN      IR1   \n",
       "\n",
       "  LandContour Utilities  ... PoolArea PoolQC Fence MiscFeature MiscVal MoSold  \\\n",
       "0         Lvl    AllPub  ...        0    NaN   NaN         NaN       0      2   \n",
       "1         Lvl    AllPub  ...        0    NaN   NaN         NaN       0      5   \n",
       "2         Lvl    AllPub  ...        0    NaN   NaN         NaN       0      9   \n",
       "3         Lvl    AllPub  ...        0    NaN   NaN         NaN       0      2   \n",
       "4         Lvl    AllPub  ...        0    NaN   NaN         NaN       0     12   \n",
       "\n",
       "  YrSold  SaleType  SaleCondition  SalePrice  \n",
       "0   2008        WD         Normal     208500  \n",
       "1   2007        WD         Normal     181500  \n",
       "2   2008        WD         Normal     223500  \n",
       "3   2006        WD        Abnorml     140000  \n",
       "4   2008        WD         Normal     250000  \n",
       "\n",
       "[5 rows x 81 columns]"
      ]
     },
     "execution_count": 28,
     "metadata": {},
     "output_type": "execute_result"
    }
   ],
   "source": [
    "print(\"First 5 rows of the data : \")\n",
    "data.head()"
   ]
  },
  {
   "cell_type": "code",
   "execution_count": 26,
   "id": "b1c3cfd1-e792-48f3-81cf-450bee061387",
   "metadata": {},
   "outputs": [
    {
     "name": "stdout",
     "output_type": "stream",
     "text": [
      "Summary of the data : \n"
     ]
    },
    {
     "data": {
      "text/plain": [
       "<bound method DataFrame.info of         Id  MSSubClass MSZoning  LotFrontage  LotArea Street Alley LotShape  \\\n",
       "0        1          60       RL         65.0     8450   Pave   NaN      Reg   \n",
       "1        2          20       RL         80.0     9600   Pave   NaN      Reg   \n",
       "2        3          60       RL         68.0    11250   Pave   NaN      IR1   \n",
       "3        4          70       RL         60.0     9550   Pave   NaN      IR1   \n",
       "4        5          60       RL         84.0    14260   Pave   NaN      IR1   \n",
       "...    ...         ...      ...          ...      ...    ...   ...      ...   \n",
       "1455  1456          60       RL         62.0     7917   Pave   NaN      Reg   \n",
       "1456  1457          20       RL         85.0    13175   Pave   NaN      Reg   \n",
       "1457  1458          70       RL         66.0     9042   Pave   NaN      Reg   \n",
       "1458  1459          20       RL         68.0     9717   Pave   NaN      Reg   \n",
       "1459  1460          20       RL         75.0     9937   Pave   NaN      Reg   \n",
       "\n",
       "     LandContour Utilities  ... PoolArea PoolQC  Fence MiscFeature MiscVal  \\\n",
       "0            Lvl    AllPub  ...        0    NaN    NaN         NaN       0   \n",
       "1            Lvl    AllPub  ...        0    NaN    NaN         NaN       0   \n",
       "2            Lvl    AllPub  ...        0    NaN    NaN         NaN       0   \n",
       "3            Lvl    AllPub  ...        0    NaN    NaN         NaN       0   \n",
       "4            Lvl    AllPub  ...        0    NaN    NaN         NaN       0   \n",
       "...          ...       ...  ...      ...    ...    ...         ...     ...   \n",
       "1455         Lvl    AllPub  ...        0    NaN    NaN         NaN       0   \n",
       "1456         Lvl    AllPub  ...        0    NaN  MnPrv         NaN       0   \n",
       "1457         Lvl    AllPub  ...        0    NaN  GdPrv        Shed    2500   \n",
       "1458         Lvl    AllPub  ...        0    NaN    NaN         NaN       0   \n",
       "1459         Lvl    AllPub  ...        0    NaN    NaN         NaN       0   \n",
       "\n",
       "     MoSold YrSold  SaleType  SaleCondition  SalePrice  \n",
       "0         2   2008        WD         Normal     208500  \n",
       "1         5   2007        WD         Normal     181500  \n",
       "2         9   2008        WD         Normal     223500  \n",
       "3         2   2006        WD        Abnorml     140000  \n",
       "4        12   2008        WD         Normal     250000  \n",
       "...     ...    ...       ...            ...        ...  \n",
       "1455      8   2007        WD         Normal     175000  \n",
       "1456      2   2010        WD         Normal     210000  \n",
       "1457      5   2010        WD         Normal     266500  \n",
       "1458      4   2010        WD         Normal     142125  \n",
       "1459      6   2008        WD         Normal     147500  \n",
       "\n",
       "[1460 rows x 81 columns]>"
      ]
     },
     "execution_count": 26,
     "metadata": {},
     "output_type": "execute_result"
    }
   ],
   "source": [
    "print(\"Summary of the data : \")\n",
    "data.info"
   ]
  },
  {
   "cell_type": "markdown",
   "id": "23abcad7-d044-4ad3-af38-134d2f12b55d",
   "metadata": {},
   "source": [
    "# Example :"
   ]
  },
  {
   "cell_type": "code",
   "execution_count": 32,
   "id": "0039d5b4-96ef-449d-8ac3-23121e837cc5",
   "metadata": {},
   "outputs": [
    {
     "name": "stdout",
     "output_type": "stream",
     "text": [
      "The space taken by the list is 840 in bytes\n"
     ]
    }
   ],
   "source": [
    "a = list(range(100))\n",
    "print(f\"The space taken by the list is {a.__sizeof__()} in bytes\")"
   ]
  },
  {
   "cell_type": "code",
   "execution_count": 36,
   "id": "320a60aa-6855-4d65-acec-f7e7cdf26cb6",
   "metadata": {},
   "outputs": [
    {
     "name": "stdout",
     "output_type": "stream",
     "text": [
      "Time taken to multiply in a list =  0.0358426570892334\n"
     ]
    }
   ],
   "source": [
    "import time as tm\n",
    "s = tm.time()\n",
    "a = list(range(1000000))\n",
    "a = (a*2)\n",
    "print(\"Time taken to multiply in a list = \", tm.time() - s)"
   ]
  },
  {
   "cell_type": "code",
   "execution_count": 38,
   "id": "55f92710-3a9d-40a1-bfa7-801445b38ec0",
   "metadata": {},
   "outputs": [
    {
     "name": "stdout",
     "output_type": "stream",
     "text": [
      "[[1 2 3]\n",
      " [4 5 6]\n",
      " [7 8 9]]\n",
      "\n",
      "ndim :  2\n",
      "\n",
      "shape :  (3, 3)\n",
      "\n",
      "size :  9\n",
      "\n",
      "dtype :  int32\n"
     ]
    }
   ],
   "source": [
    "array = np.array([[1, 2, 3], [4, 5, 6], [7, 8, 9]])\n",
    "print(array)\n",
    "print()\n",
    "print(\"ndim : \", array.ndim)\n",
    "print()\n",
    "print(\"shape : \", array.shape)\n",
    "print()\n",
    "print(\"size : \", array.size)\n",
    "print()\n",
    "print(\"dtype : \", array.dtype)"
   ]
  },
  {
   "cell_type": "code",
   "execution_count": 40,
   "id": "a59584b8-484f-4aea-be2a-7c23d6a90c26",
   "metadata": {},
   "outputs": [
    {
     "name": "stdout",
     "output_type": "stream",
     "text": [
      "Transpose of the array :  [[1 4 7]\n",
      " [2 5 8]\n",
      " [3 6 9]]\n"
     ]
    }
   ],
   "source": [
    "a = array.T\n",
    "print(\"Transpose of the array : \", a)"
   ]
  },
  {
   "cell_type": "code",
   "execution_count": 41,
   "id": "74189457-37cd-4b62-842a-4beca8b11c45",
   "metadata": {},
   "outputs": [
    {
     "name": "stdout",
     "output_type": "stream",
     "text": [
      "Matrix to matrix multiplication [[ 14  32  50]\n",
      " [ 32  77 122]\n",
      " [ 50 122 194]]\n"
     ]
    }
   ],
   "source": [
    "x = array.dot(a)\n",
    "print(\"Matrix to matrix multiplication\" , x)"
   ]
  },
  {
   "cell_type": "code",
   "execution_count": 44,
   "id": "ace2e876-7fff-4a18-8c74-96d3d7d61035",
   "metadata": {},
   "outputs": [
    {
     "data": {
      "text/plain": [
       "array([[1, 2, 3, 1, 4, 7],\n",
       "       [4, 5, 6, 2, 5, 8],\n",
       "       [7, 8, 9, 3, 6, 9]])"
      ]
     },
     "execution_count": 44,
     "metadata": {},
     "output_type": "execute_result"
    }
   ],
   "source": [
    "np.concatenate((array, a), axis = 1)"
   ]
  },
  {
   "cell_type": "markdown",
   "id": "ccbef169-d359-4e1b-b196-df08d152c739",
   "metadata": {},
   "source": [
    "# Exercise 2 :"
   ]
  },
  {
   "cell_type": "code",
   "execution_count": 17,
   "id": "be01d6ee-c0a3-4361-804f-ad5ad4bb324a",
   "metadata": {},
   "outputs": [],
   "source": [
    "df = pd.read_csv(\"C:/Users/vijes/Downloads/ML_s4_LAB/labsheet(2)/concap[1] (1).xls\")"
   ]
  },
  {
   "cell_type": "code",
   "execution_count": 19,
   "id": "ef07a450-44a5-4a29-af2a-8c357de9783e",
   "metadata": {},
   "outputs": [
    {
     "name": "stdout",
     "output_type": "stream",
     "text": [
      "Closest capital to Washington, D.C.: Washington [ 38.883333 -77.      ]\n",
      "\n",
      "Countries of the top 10 closest capitals: ['United States' 'US Minor Outlying Islands' 'Canada' 'Bahamas' 'Bermuda'\n",
      " 'Cuba' 'Turks and Caicos Islands' 'Cayman Islands' 'Jamaica' 'Haiti']\n",
      "\n",
      "Coordinates of the top 10 closest capitals:\n",
      " [[ 38.883333   -77.        ]\n",
      " [ 38.883333   -77.        ]\n",
      " [ 45.41666667 -75.7       ]\n",
      " [ 25.08333333 -77.35      ]\n",
      " [ 32.28333333 -64.783333  ]\n",
      " [ 23.11666667 -82.35      ]\n",
      " [ 21.46666667 -71.133333  ]\n",
      " [ 19.3        -81.383333  ]\n",
      " [ 18.         -76.8       ]\n",
      " [ 18.53333333 -72.333333  ]]\n"
     ]
    }
   ],
   "source": [
    "# Reference coordinates for Washington, D.C.\n",
    "washington_dc = np.array([38.89511, -77.03637])\n",
    "\n",
    "# Extract capital names, country names, and their coordinates\n",
    "capital_coords = df[[\"CapitalLatitude\", \"CapitalLongitude\"]].to_numpy()\n",
    "capital_names = df[\"CapitalName\"].to_numpy()\n",
    "country_names = df[\"CountryName\"].to_numpy()\n",
    "\n",
    "# Compute Euclidean distances from Washington, D.C.\n",
    "distances = np.linalg.norm(capital_coords - washington_dc, axis=1)\n",
    "\n",
    "# Get indices of the top 10 closest cities\n",
    "closest_indices = np.argsort(distances)[:10]\n",
    "\n",
    "# 1. Closest capital city to Washington, D.C.\n",
    "closest_city = capital_names[closest_indices[0]]\n",
    "closest_city_coords = capital_coords[closest_indices[0]]\n",
    "\n",
    "# 2. Names of the countries of the top 10 closest capital cities\n",
    "closest_countries = country_names[closest_indices]\n",
    "\n",
    "# 3. NumPy array of coordinates of the top 10 closest cities\n",
    "top_10_coords = capital_coords[closest_indices]\n",
    "\n",
    "# Print results\n",
    "print(\"Closest capital to Washington, D.C.:\", closest_city, closest_city_coords)\n",
    "print()\n",
    "print(\"Countries of the top 10 closest capitals:\", closest_countries)\n",
    "print()\n",
    "print(\"Coordinates of the top 10 closest capitals:\\n\", top_10_coords)\n"
   ]
  },
  {
   "cell_type": "markdown",
   "id": "7619d807-e0a4-44e2-830a-3af7141bc2d1",
   "metadata": {},
   "source": [
    "# Exercise 3 :"
   ]
  },
  {
   "cell_type": "code",
   "execution_count": 1,
   "id": "c0f1dc71-0b2e-4567-bb01-a648b453af42",
   "metadata": {},
   "outputs": [
    {
     "name": "stdout",
     "output_type": "stream",
     "text": [
      "Original Array:\n",
      "[[40 13  3  6]\n",
      " [33 26 28  6]\n",
      " [ 6 40 34  4]]\n",
      "\n",
      "Number of Dimensions (ndim): 2\n",
      "\n",
      "Shape of the Array (shape): (3, 4)\n",
      "\n",
      "Total Number of Elements (size): 12\n",
      "\n",
      "Data Type of the Elements (dtype): int32\n",
      "\n",
      "Transpose of the Array (T):\n",
      "[[40 33  6]\n",
      " [13 26 40]\n",
      " [ 3 28 34]\n",
      " [ 6  6  4]]\n"
     ]
    }
   ],
   "source": [
    "import numpy as np\n",
    "random_array = np.random.randint(1, 51, size=(3, 4))\n",
    "print(\"Original Array:\")\n",
    "print(random_array)\n",
    "print()\n",
    "print(\"Number of Dimensions (ndim):\", random_array.ndim)\n",
    "print()\n",
    "print(\"Shape of the Array (shape):\", random_array.shape)\n",
    "print(\"\\nTotal Number of Elements (size):\", random_array.size)\n",
    "print(\"\\nData Type of the Elements (dtype):\", random_array.dtype)\n",
    "print(\"\\nTranspose of the Array (T):\")\n",
    "print(random_array.T)"
   ]
  },
  {
   "cell_type": "markdown",
   "id": "a929bbfe-838d-470e-bd60-e9811e2bce1b",
   "metadata": {},
   "source": [
    "# Exercise 4 :"
   ]
  },
  {
   "cell_type": "code",
   "execution_count": 2,
   "id": "0dae0009-e567-4cf1-b75b-7ae6f8bd3a4b",
   "metadata": {},
   "outputs": [
    {
     "name": "stdout",
     "output_type": "stream",
     "text": [
      "Addition (A + B): [ 3  7 11 15]\n",
      "\n",
      "Subtraction (A - B): [1 1 1 1]\n",
      "\n",
      "Multiplication (A * B): [ 2 12 30 56]\n",
      "\n",
      "Division (A / B): [2.         1.33333333 1.2        1.14285714]\n"
     ]
    }
   ],
   "source": [
    "A = np.array([2, 4, 6, 8])\n",
    "B = np.array([1, 3, 5, 7])\n",
    "X = A + B\n",
    "print(\"Addition (A + B):\", X)\n",
    "print()\n",
    "X = A - B\n",
    "print(\"Subtraction (A - B):\", X)\n",
    "print()\n",
    "X = A * B\n",
    "print(\"Multiplication (A * B):\", X)\n",
    "print()\n",
    "X = A / B\n",
    "print(\"Division (A / B):\", X)"
   ]
  },
  {
   "cell_type": "markdown",
   "id": "3852a2b3-fa9d-4f85-bbae-267edc4eb433",
   "metadata": {},
   "source": [
    "# Exercise 5 :"
   ]
  },
  {
   "cell_type": "code",
   "execution_count": 22,
   "id": "267c5c3e-7104-424c-af5d-c58ff9c7a4f1",
   "metadata": {},
   "outputs": [
    {
     "name": "stdout",
     "output_type": "stream",
     "text": [
      "Addition with 5:\n",
      " [[ 6  7  8]\n",
      " [ 9 10 11]]\n",
      "\n",
      "Multiplication with [2, 3, 4]:\n",
      " [[ 2  6 12]\n",
      " [ 8 15 24]]\n"
     ]
    }
   ],
   "source": [
    "A = np.array([[1, 2, 3], [4, 5, 6]])\n",
    "X = A + 5\n",
    "print(\"Addition with 5:\\n\", X)\n",
    "print()\n",
    "# ii) Multiply each column by a different number using broadcasting: [2, 3, 4]\n",
    "D = np.array([2, 3, 4])\n",
    "X = A * D\n",
    "print(\"Multiplication with [2, 3, 4]:\\n\", X)"
   ]
  },
  {
   "cell_type": "markdown",
   "id": "c9698cae-4779-4387-b602-835910821db2",
   "metadata": {},
   "source": [
    "# Exercise 6 :"
   ]
  },
  {
   "cell_type": "code",
   "execution_count": 3,
   "id": "cc2d4175-1155-461e-ad74-836287a0103f",
   "metadata": {},
   "outputs": [
    {
     "name": "stdout",
     "output_type": "stream",
     "text": [
      "[False False  True False False] [ True False False False  True] [False  True False  True False]\n"
     ]
    }
   ],
   "source": [
    "import numpy as np\n",
    "arr1 = np.array([10, 20, 30, 40, 50])\n",
    "arr2 = np.array([15, 20, 25, 40, 55]) \n",
    "print(arr1>arr2,arr1<arr2,arr1==arr2)"
   ]
  },
  {
   "cell_type": "markdown",
   "id": "beb315b9-85e1-4fa6-ba22-ff4b88e2ca8f",
   "metadata": {},
   "source": [
    "# Exercise 7 :"
   ]
  },
  {
   "cell_type": "code",
   "execution_count": 24,
   "id": "0a729592-cf7d-4d3f-89fc-9b160b434a79",
   "metadata": {},
   "outputs": [
    {
     "name": "stdout",
     "output_type": "stream",
     "text": [
      "[[1 2]\n",
      " [3 4]\n",
      " [5 6]\n",
      " [7 8]]\n",
      "\n",
      "[[1 2 5 6]\n",
      " [3 4 7 8]]\n"
     ]
    }
   ],
   "source": [
    "import numpy as np\n",
    "A = np.array([[1, 2], [3, 4]])\n",
    "B = np.array([[5, 6], [7, 8]])\n",
    "print(np.concatenate((A,B),axis=0))\n",
    "print()\n",
    "print(np.concatenate((A,B),axis=1))"
   ]
  },
  {
   "cell_type": "markdown",
   "id": "abf856cd-f2ac-4c7f-b3f1-f6d1d5ed45fa",
   "metadata": {},
   "source": [
    "# Exercise 8:"
   ]
  },
  {
   "cell_type": "code",
   "execution_count": 25,
   "id": "8548d2d5-0012-4ade-8054-73c9be50d166",
   "metadata": {},
   "outputs": [
    {
     "name": "stdout",
     "output_type": "stream",
     "text": [
      "[ 1  4  9 16 25 36]\n",
      "\n",
      "[1.         1.41421356 1.73205081 2.         2.23606798 2.44948974]\n",
      "\n",
      "[0.         0.69314718 1.09861229 1.38629436 1.60943791 1.79175947]\n"
     ]
    }
   ],
   "source": [
    "arr = np.array([1, 2, 3, 4, 5, 6])\n",
    "square_arr=np.square(arr)\n",
    "print(square_arr)\n",
    "print()\n",
    "print(np.sqrt(arr))\n",
    "print()\n",
    "print(np.log(arr))"
   ]
  },
  {
   "cell_type": "markdown",
   "id": "d2b1a412-63a0-497e-b05d-e21e0ac81f63",
   "metadata": {},
   "source": [
    "# Exercise 9:"
   ]
  },
  {
   "cell_type": "code",
   "execution_count": 26,
   "id": "c0b8d155-10eb-4d85-be4e-c81bd07eb0d9",
   "metadata": {},
   "outputs": [
    {
     "name": "stdout",
     "output_type": "stream",
     "text": [
      "Random integer: 71\n",
      "\n",
      "3x3 random matrix:\n",
      " [[0.65410112 0.35742007 0.29951751]\n",
      " [0.18086743 0.67781523 0.64309893]\n",
      " [0.371714   0.8326722  0.17736046]]\n",
      "\n",
      "Random sample from normal distribution: [41.51172614 50.37730185 28.55462277 35.74748419 51.4454108 ]\n",
      "\n",
      "Shuffled array: [1, 3, 5, 9, 4, 7, 8, 2, 6]\n"
     ]
    }
   ],
   "source": [
    "import numpy as np\n",
    "import random\n",
    "random_integer = random.randint(10, 100)\n",
    "random_matrix = np.random.rand(3, 3)\n",
    "random_sample = np.random.normal(loc=50, scale=10, size=5)\n",
    "original_array = [1, 2, 3, 4, 5, 6, 7, 8, 9]\n",
    "shuffled_array = original_array[:]\n",
    "random.shuffle(shuffled_array)\n",
    "print(\"Random integer:\", random_integer)\n",
    "print()\n",
    "print(\"3x3 random matrix:\\n\", random_matrix)\n",
    "print()\n",
    "print(\"Random sample from normal distribution:\", random_sample)\n",
    "print()\n",
    "print(\"Shuffled array:\", shuffled_array)"
   ]
  },
  {
   "cell_type": "markdown",
   "id": "69b39833-627b-4723-8ba2-ecbf4571e7ea",
   "metadata": {},
   "source": [
    "# Exercise 10:"
   ]
  },
  {
   "cell_type": "code",
   "execution_count": 27,
   "id": "c14bfa5c-cb34-46fe-961d-cc01df392e0e",
   "metadata": {},
   "outputs": [
    {
     "name": "stdout",
     "output_type": "stream",
     "text": [
      "First three rows:\n",
      "       Name  Age  Salary Department\n",
      "0    Alice   25   50000         HR\n",
      "1      Bob   30   60000         IT\n",
      "2  Charlie   22   45000    Finance\n",
      "\n",
      "Last two rows:\n",
      "     Name  Age  Salary Department\n",
      "3  David   35   80000         IT\n",
      "4    Eva   28   70000         HR\n",
      "\n",
      "Summary of numerical columns:\n",
      "              Age        Salary\n",
      "count   5.000000      5.000000\n",
      "mean   28.000000  61000.000000\n",
      "std     4.949747  14317.821063\n",
      "min    22.000000  45000.000000\n",
      "25%    25.000000  50000.000000\n",
      "50%    28.000000  60000.000000\n",
      "75%    30.000000  70000.000000\n",
      "max    35.000000  80000.000000\n",
      "\n",
      "Maximum Salary: 80000\n",
      "Minimum Salary: 45000\n",
      "\n",
      "Mean Age: 28.0\n",
      "Median Age: 28.0\n",
      "\n",
      "Standard Deviation of Salary: 14317.821063276353\n",
      "\n",
      "Random sample of 2 rows:\n",
      "       Name  Age  Salary Department\n",
      "3    David   35   80000         IT\n",
      "2  Charlie   22   45000    Finance\n",
      "\n",
      "DataFrame after removing rows where Salary < 50000:\n",
      "     Name  Age  Salary Department\n",
      "0  Alice   25   50000         HR\n",
      "1    Bob   30   60000         IT\n",
      "3  David   35   80000         IT\n",
      "4    Eva   28   70000         HR\n",
      "\n",
      "Salary increased by 10%:\n",
      "       Name  Age   Salary Department\n",
      "0    Alice   25  55000.0         HR\n",
      "1      Bob   30  66000.0         IT\n",
      "2  Charlie   22  49500.0    Finance\n",
      "3    David   35  88000.0         IT\n",
      "4      Eva   28  77000.0         HR\n",
      "\n",
      "Department names in uppercase:\n",
      "       Name  Age   Salary Department\n",
      "0    Alice   25  55000.0         HR\n",
      "1      Bob   30  66000.0         IT\n",
      "2  Charlie   22  49500.0    FINANCE\n",
      "3    David   35  88000.0         IT\n",
      "4      Eva   28  77000.0         HR\n",
      "\n",
      "DataFrame after dropping Age column:\n",
      "       Name   Salary Department\n",
      "0    Alice  55000.0         HR\n",
      "1      Bob  66000.0         IT\n",
      "2  Charlie  49500.0    FINANCE\n",
      "3    David  88000.0         IT\n",
      "4      Eva  77000.0         HR\n",
      "\n",
      "Unique department names:\n",
      " ['HR' 'IT' 'FINANCE']\n",
      "\n",
      "Employee count per department:\n",
      " Department\n",
      "HR         2\n",
      "IT         2\n",
      "FINANCE    1\n",
      "Name: count, dtype: int64\n",
      "\n",
      "Employee existence check:\n",
      " {'Alice': True, 'John': False, 'David': True}\n",
      "\n",
      "Employees above 25 years old using loc:\n",
      "     Name  Age   Salary Department\n",
      "1    Bob   30  66000.0         IT\n",
      "3  David   35  88000.0         IT\n",
      "4    Eva   28  77000.0         HR\n",
      "\n",
      "Employees above 25 years old using iloc:\n",
      "     Name  Age   Salary Department\n",
      "1    Bob   30  66000.0         IT\n",
      "3  David   35  88000.0         IT\n",
      "4    Eva   28  77000.0         HR\n",
      "\n",
      "DataFrame sorted by Salary (descending):\n",
      "       Name  Age   Salary Department\n",
      "3    David   35  88000.0         IT\n",
      "4      Eva   28  77000.0         HR\n",
      "1      Bob   30  66000.0         IT\n",
      "0    Alice   25  55000.0         HR\n",
      "2  Charlie   22  49500.0    FINANCE\n",
      "\n",
      "Employees ranked by salary:\n",
      "       Name  Age   Salary Department  Salary Rank\n",
      "0    Alice   25  55000.0         HR          4.0\n",
      "1      Bob   30  66000.0         IT          3.0\n",
      "2  Charlie   22  49500.0    FINANCE          5.0\n",
      "3    David   35  88000.0         IT          1.0\n",
      "4      Eva   28  77000.0         HR          2.0\n",
      "\n",
      "DataFrame after adding Bonus column:\n",
      "       Name  Age   Salary Department  Salary Rank  Bonus\n",
      "0    Alice   25  55000.0         HR          4.0   5000\n",
      "1      Bob   30  66000.0         IT          3.0   7000\n",
      "2  Charlie   22  49500.0    FINANCE          5.0   4000\n",
      "3    David   35  88000.0         IT          1.0   9000\n",
      "4      Eva   28  77000.0         HR          2.0   8000\n",
      "\n",
      "Total Earnings (Salary + Bonus):\n",
      "       Name  Age   Salary Department  Salary Rank  Bonus  Total Earnings\n",
      "0    Alice   25  55000.0         HR          4.0   5000         60000.0\n",
      "1      Bob   30  66000.0         IT          3.0   7000         73000.0\n",
      "2  Charlie   22  49500.0    FINANCE          5.0   4000         53500.0\n",
      "3    David   35  88000.0         IT          1.0   9000         97000.0\n",
      "4      Eva   28  77000.0         HR          2.0   8000         85000.0\n",
      "\n",
      "Adjusted Salary:\n",
      "       Name  Age   Salary Department  Salary Rank  Bonus  Total Earnings  \\\n",
      "0    Alice   25  55000.0         HR          4.0   5000         60000.0   \n",
      "1      Bob   30  66000.0         IT          3.0   7000         73000.0   \n",
      "2  Charlie   22  49500.0    FINANCE          5.0   4000         53500.0   \n",
      "3    David   35  88000.0         IT          1.0   9000         97000.0   \n",
      "4      Eva   28  77000.0         HR          2.0   8000         85000.0   \n",
      "\n",
      "   Adjusted Salary  \n",
      "0          56000.0  \n",
      "1          68000.0  \n",
      "2          51000.0  \n",
      "3          91000.0  \n",
      "4          79500.0  \n"
     ]
    }
   ],
   "source": [
    "import pandas as pd\n",
    "data = {\n",
    "    \"Name\": [\"Alice\", \"Bob\", \"Charlie\", \"David\", \"Eva\"],\n",
    "    \"Age\": [25, 30, 22, 35, 28],\n",
    "    \"Salary\": [50000, 60000, 45000, 80000, 70000],\n",
    "    \"Department\": [\"HR\", \"IT\", \"Finance\", \"IT\", \"HR\"]\n",
    "}\n",
    "df = pd.DataFrame(data)\n",
    "print(\"First three rows:\\n\", df.head(3))\n",
    "print(\"\\nLast two rows:\\n\", df.tail(2))\n",
    "print(\"\\nSummary of numerical columns:\\n\", df.describe())\n",
    "print(\"\\nMaximum Salary:\", df[\"Salary\"].max())\n",
    "print(\"Minimum Salary:\", df[\"Salary\"].min())\n",
    "print(\"\\nMean Age:\", df[\"Age\"].mean())\n",
    "print(\"Median Age:\", df[\"Age\"].median())\n",
    "print(\"\\nStandard Deviation of Salary:\", df[\"Salary\"].std())\n",
    "print(\"\\nRandom sample of 2 rows:\\n\", df.sample(2))\n",
    "filtered_df = df[df[\"Salary\"] >= 50000]\n",
    "print(\"\\nDataFrame after removing rows where Salary < 50000:\\n\", filtered_df)\n",
    "df[\"Salary\"] = df[\"Salary\"] * 1.10\n",
    "print(\"\\nSalary increased by 10%:\\n\", df)\n",
    "df[\"Department\"] = df[\"Department\"].map(str.upper)\n",
    "print(\"\\nDepartment names in uppercase:\\n\", df)\n",
    "df_dropped_age = df.drop(columns=[\"Age\"])\n",
    "print(\"\\nDataFrame after dropping Age column:\\n\", df_dropped_age)\n",
    "print(\"\\nUnique department names:\\n\", df[\"Department\"].unique())\n",
    "print(\"\\nEmployee count per department:\\n\", df[\"Department\"].value_counts())\n",
    "employees_to_check = [\"Alice\", \"John\", \"David\"]\n",
    "existing_employees = {name: name in df[\"Name\"].values for name in employees_to_check}\n",
    "print(\"\\nEmployee existence check:\\n\", existing_employees)\n",
    "print(\"\\nEmployees above 25 years old using loc:\\n\", df.loc[df[\"Age\"] > 25])\n",
    "print(\"\\nEmployees above 25 years old using iloc:\\n\", df[df[\"Age\"] > 25])\n",
    "sorted_df = df.sort_values(by=\"Salary\", ascending=False)\n",
    "print(\"\\nDataFrame sorted by Salary (descending):\\n\", sorted_df)\n",
    "df[\"Salary Rank\"] = df[\"Salary\"].rank(ascending=False)\n",
    "print(\"\\nEmployees ranked by salary:\\n\", df)\n",
    "bonus_data = {\"Name\": [\"Alice\", \"Bob\", \"Charlie\", \"David\", \"Eva\"], \"Bonus\": [5000, 7000, 4000, 9000, 8000]}\n",
    "bonus_df = pd.DataFrame(bonus_data)\n",
    "df = df.merge(bonus_df, on=\"Name\")\n",
    "print(\"\\nDataFrame after adding Bonus column:\\n\", df)\n",
    "df[\"Total Earnings\"] = df[\"Salary\"] + df[\"Bonus\"]\n",
    "print(\"\\nTotal Earnings (Salary + Bonus):\\n\", df)\n",
    "df[\"Adjusted Salary\"] = df[\"Salary\"] + [1000, 2000, 1500, 3000, 2500]\n",
    "print(\"\\nAdjusted Salary:\\n\", df)"
   ]
  },
  {
   "cell_type": "code",
   "execution_count": null,
   "id": "e1bba8a8-380c-47ab-8be8-5cbb7ba96bc6",
   "metadata": {},
   "outputs": [],
   "source": []
  }
 ],
 "metadata": {
  "kernelspec": {
   "display_name": "Python 3 (ipykernel)",
   "language": "python",
   "name": "python3"
  },
  "language_info": {
   "codemirror_mode": {
    "name": "ipython",
    "version": 3
   },
   "file_extension": ".py",
   "mimetype": "text/x-python",
   "name": "python",
   "nbconvert_exporter": "python",
   "pygments_lexer": "ipython3",
   "version": "3.12.6"
  }
 },
 "nbformat": 4,
 "nbformat_minor": 5
}
