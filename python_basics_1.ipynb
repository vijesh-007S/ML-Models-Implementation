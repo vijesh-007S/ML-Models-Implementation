{
 "cells": [
  {
   "cell_type": "markdown",
   "id": "b8328556-896a-44eb-b9af-cdd42bdbbc16",
   "metadata": {},
   "source": [
    "# 1.1.1. Objects and Attributes :"
   ]
  },
  {
   "cell_type": "code",
   "execution_count": 2,
   "id": "731eac13-5b72-4e9c-bb7e-53fd1e27a845",
   "metadata": {},
   "outputs": [
    {
     "name": "stdout",
     "output_type": "stream",
     "text": [
      "Real part of 'var' :  2.0\n",
      "Imaginary part of 'var' :  -2.0\n"
     ]
    }
   ],
   "source": [
    "var = 2 -2j\n",
    "print(\"Real part of 'var' : \", var.real)\n",
    "print(\"Imaginary part of 'var' : \", var.imag)"
   ]
  },
  {
   "cell_type": "markdown",
   "id": "ef9ed9c4-9a80-4d6a-ab39-7bb1c82aea73",
   "metadata": {},
   "source": [
    "# 1.1.2. Defining a Class in Python :"
   ]
  },
  {
   "cell_type": "code",
   "execution_count": 5,
   "id": "67c21d73-cb63-4bc9-b7d0-f520fe8628e2",
   "metadata": {},
   "outputs": [
    {
     "name": "stdout",
     "output_type": "stream",
     "text": [
      "3\n",
      "Hi\n"
     ]
    }
   ],
   "source": [
    "class vijesh:\n",
    "    a = \"Hi\"  # Attribute\n",
    "    def sum(self, a, b):   # Method\n",
    "        print(a+b)\n",
    "ans = vijesh()\n",
    "ans.sum(1, 2)\n",
    "print(ans.a)"
   ]
  },
  {
   "cell_type": "markdown",
   "id": "84a7d09f-56bc-4b09-a58b-fddb89aaee24",
   "metadata": {},
   "source": [
    "# 1.2.1 Call by Object Reference :"
   ]
  },
  {
   "cell_type": "code",
   "execution_count": 8,
   "id": "dff8f52c-0a42-44e7-97c8-5f6b52da0212",
   "metadata": {},
   "outputs": [
    {
     "name": "stdout",
     "output_type": "stream",
     "text": [
      "List x :  [10, 20, 30, 2425]\n",
      "List y :  [10, 20, 30, 2425]\n"
     ]
    }
   ],
   "source": [
    "x = [10, 20, 30]\n",
    "y = x\n",
    "y.append(2425)\n",
    "print(\"List x : \", x)\n",
    "print(\"List y : \", y)"
   ]
  },
  {
   "cell_type": "code",
   "execution_count": 10,
   "id": "c260183f-b259-4200-bfc2-5b8ea54c9f85",
   "metadata": {},
   "outputs": [
    {
     "name": "stdout",
     "output_type": "stream",
     "text": [
      "List x : [10, 20, 30, 2425] , List y : [10, 20, 30, 2425, 'hi']\n"
     ]
    }
   ],
   "source": [
    "y = x.copy()\n",
    "y.append(\"hi\")\n",
    "print(f\"List x : {x} , List y : {y}\")"
   ]
  },
  {
   "cell_type": "markdown",
   "id": "3f5ff953-3d17-4240-91aa-03cbaf02be41",
   "metadata": {},
   "source": [
    "# 1.2.2. Assigning Multiple Variable Names :"
   ]
  },
  {
   "cell_type": "code",
   "execution_count": 13,
   "id": "bc51f93d-557e-47a6-a11d-911ec0ee283d",
   "metadata": {},
   "outputs": [
    {
     "name": "stdout",
     "output_type": "stream",
     "text": [
      "Apple\n",
      "Cherry\n"
     ]
    }
   ],
   "source": [
    "f_1, f_2, f_3 = \"Apple\", \"Banana\", \"Cherry\"\n",
    "print(f_1)\n",
    "print(f_3)"
   ]
  },
  {
   "cell_type": "code",
   "execution_count": 15,
   "id": "bdb76b7b-5be9-48b2-8417-5b1fb14b3529",
   "metadata": {},
   "outputs": [
    {
     "name": "stdout",
     "output_type": "stream",
     "text": [
      "Vijesh Vijesh Vijesh\n"
     ]
    }
   ],
   "source": [
    "x = y = z = \"Vijesh\"\n",
    "print(x, y, z)"
   ]
  },
  {
   "cell_type": "markdown",
   "id": "64be054c-d81b-46e0-aa99-94aa28d86619",
   "metadata": {},
   "source": [
    "# Exercise 1 :"
   ]
  },
  {
   "cell_type": "code",
   "execution_count": 18,
   "id": "59d5b8ab-4836-4d46-abe4-571c125d8b72",
   "metadata": {},
   "outputs": [
    {
     "name": "stdout",
     "output_type": "stream",
     "text": [
      "<class 'int'>\n",
      "<class 'float'>\n",
      "<class 'bool'>\n",
      "<class 'str'>\n",
      "<class 'list'>\n",
      "<class 'tuple'>\n",
      "<class 'dict'>\n",
      "<class 'set'>\n"
     ]
    }
   ],
   "source": [
    "#1\n",
    "num_students = 50\n",
    "print(type(num_students))\n",
    "\n",
    "#2\n",
    "average_score = 85.6\n",
    "print(type(average_score))\n",
    "\n",
    "#3\n",
    "is_lab_completed = True\n",
    "print(type(is_lab_completed))\n",
    "\n",
    "#4\n",
    "course_name = \"Machine Learning Lab\"\n",
    "print(type(course_name))\n",
    "\n",
    "#5\n",
    "students_name = [\"vijesh\", \"ajai\"]\n",
    "print(type(students_name))\n",
    "\n",
    "#6\n",
    "rgb_colors = (\"red\", \"green\", \"blue\")\n",
    "print(type(rgb_colors))\n",
    "\n",
    "#7\n",
    "students_scores = {\"vijesh\" : 100, \"ram\" : 99.6}\n",
    "print(type(students_scores))\n",
    "\n",
    "#8\n",
    "unique_numbers = {1, 2, 3, 4, 5}\n",
    "print(type(unique_numbers))"
   ]
  },
  {
   "cell_type": "markdown",
   "id": "eee1de82-6ca6-4087-801e-03ce4f0346f0",
   "metadata": {},
   "source": [
    "# Exercise 2 :"
   ]
  },
  {
   "cell_type": "code",
   "execution_count": 21,
   "id": "5db68206-cd72-4d25-a7a4-f069ecf49b31",
   "metadata": {},
   "outputs": [
    {
     "name": "stdout",
     "output_type": "stream",
     "text": [
      "20\n"
     ]
    }
   ],
   "source": [
    "student_data = (\"Vijesh\", 20, \"ECE\")\n",
    "print(student_data[1])"
   ]
  },
  {
   "cell_type": "markdown",
   "id": "373667ba-94ee-4851-aa6d-5141149b7f43",
   "metadata": {},
   "source": [
    "# Exercise 3 :"
   ]
  },
  {
   "cell_type": "code",
   "execution_count": 26,
   "id": "22faf892-7694-4209-b9b2-4bf2f30a4791",
   "metadata": {},
   "outputs": [
    {
     "ename": "TypeError",
     "evalue": "'tuple' object does not support item assignment",
     "output_type": "error",
     "traceback": [
      "\u001b[1;31m---------------------------------------------------------------------------\u001b[0m",
      "\u001b[1;31mTypeError\u001b[0m                                 Traceback (most recent call last)",
      "Cell \u001b[1;32mIn[26], line 1\u001b[0m\n\u001b[1;32m----> 1\u001b[0m student_data[\u001b[38;5;241m1\u001b[39m] \u001b[38;5;241m=\u001b[39m \u001b[38;5;241m21\u001b[39m\n\u001b[0;32m      2\u001b[0m \u001b[38;5;28mprint\u001b[39m(student_data)\n",
      "\u001b[1;31mTypeError\u001b[0m: 'tuple' object does not support item assignment"
     ]
    }
   ],
   "source": [
    "student_data[1] = 21\n",
    "print(student_data)  # We cannot modify tuple "
   ]
  },
  {
   "cell_type": "markdown",
   "id": "66955cb2-30b2-4c00-9402-65ada05b1ad9",
   "metadata": {},
   "source": [
    "# Exercise 4 :"
   ]
  },
  {
   "cell_type": "code",
   "execution_count": 29,
   "id": "682663ec-2bfb-4e2f-a7d4-a86e6bff21e9",
   "metadata": {},
   "outputs": [
    {
     "name": "stdout",
     "output_type": "stream",
     "text": [
      "Concatenated Tuple: ('python', 'is', 'great', '!')\n",
      "\n",
      "Repeated Tuple: ('python', 'is', 'python', 'is', 'python', 'is')\n"
     ]
    }
   ],
   "source": [
    "tuple_1 = (\"python\", \"is\")\n",
    "tuple_2 = (\"great\", \"!\")\n",
    "print(\"Concatenated Tuple:\",tuple_1 + tuple_2)\n",
    "print()\n",
    "print(\"Repeated Tuple:\", 3*tuple_1)"
   ]
  },
  {
   "cell_type": "markdown",
   "id": "ac27dcd9-a6a3-4683-90f0-29532d5ef207",
   "metadata": {},
   "source": [
    "# Exercise 5 :"
   ]
  },
  {
   "cell_type": "code",
   "execution_count": 32,
   "id": "e85c078e-10c2-4c08-a837-ccc98601f180",
   "metadata": {},
   "outputs": [
    {
     "name": "stdout",
     "output_type": "stream",
     "text": [
      "First value : 10, Third value : 30, Last value : 50\n"
     ]
    }
   ],
   "source": [
    "tuple = (10, 20, 30, 40, 50)\n",
    "a = tuple[0]\n",
    "b = tuple[2]\n",
    "c = tuple[-1]\n",
    "print(f\"First value : {a}, Third value : {b}, Last value : {c}\")"
   ]
  },
  {
   "cell_type": "markdown",
   "id": "dc6782bd-eba5-4b39-8186-55faeef90347",
   "metadata": {},
   "source": [
    "# Exercise 6 :"
   ]
  },
  {
   "cell_type": "code",
   "execution_count": 35,
   "id": "8e164f98-a68b-42f1-912c-969a168b52c1",
   "metadata": {},
   "outputs": [
    {
     "name": "stdout",
     "output_type": "stream",
     "text": [
      "Elements from index 2 to 6 :  [30, 40, 50, 60, 70]\n",
      "\n",
      "Every second element: [10, 30, 50, 70, 90]\n",
      "\n",
      "Reversed List: [100, 90, 80, 70, 60, 50, 40, 30, 20, 10]\n"
     ]
    }
   ],
   "source": [
    "numbers = [10, 20, 30, 40, 50, 60, 70, 80, 90, 100]\n",
    "print(\"Elements from index 2 to 6 : \", numbers[2:7])\n",
    "print()\n",
    "print(\"Every second element:\", numbers[::2])\n",
    "print()\n",
    "print(\"Reversed List:\", numbers[ : : -1])"
   ]
  },
  {
   "cell_type": "markdown",
   "id": "0c50dc24-80d1-4b03-b394-e85c27b53c57",
   "metadata": {},
   "source": [
    "# Exercise 7 :"
   ]
  },
  {
   "cell_type": "code",
   "execution_count": 38,
   "id": "e868341b-17c5-4ed2-85fc-429c0f2f0b87",
   "metadata": {},
   "outputs": [
    {
     "name": "stdout",
     "output_type": "stream",
     "text": [
      "After Adding 'orange': ['apple', 'banana', 'cherry', 'orange']\n",
      "\n",
      "After Inserting 'grape' at index 1: ['apple', 'grape', 'banana', 'cherry', 'orange']\n",
      "\n",
      "After Removing 'banana': ['apple', 'grape', 'cherry', 'orange']\n",
      "\n",
      "After Popping Last Element: ['apple', 'grape', 'cherry']\n"
     ]
    }
   ],
   "source": [
    "fruits = [\"apple\", \"banana\", \"cherry\"]\n",
    "fruits.append(\"orange\")\n",
    "print(\"After Adding 'orange':\", fruits)\n",
    "print()\n",
    "fruits.insert(1, \"grape\")\n",
    "print(\"After Inserting 'grape' at index 1:\", fruits)\n",
    "print()\n",
    "fruits.remove(\"banana\")\n",
    "print(\"After Removing 'banana':\", fruits)\n",
    "print()\n",
    "fruits.pop()\n",
    "print(\"After Popping Last Element:\", fruits)"
   ]
  },
  {
   "cell_type": "markdown",
   "id": "9d64a009-c8ae-46a5-be8d-ed5a49b64b96",
   "metadata": {},
   "source": [
    "# Exercise 8 :"
   ]
  },
  {
   "cell_type": "code",
   "execution_count": 41,
   "id": "c446a7ce-a1a6-46d5-844b-47cb0f5dcd94",
   "metadata": {},
   "outputs": [
    {
     "name": "stdout",
     "output_type": "stream",
     "text": [
      "List of Squares :  [1, 4, 9, 16, 25, 36, 49, 64, 81, 100]\n",
      "\n",
      "List of Even Numbers :  [2, 4, 6, 8, 10, 12, 14, 16, 18]\n",
      "\n",
      "The words that contain letters only lessthan or equal  to 5 :  ['cat', 'dog', 'tiger', 'mouse']\n"
     ]
    }
   ],
   "source": [
    "list_squares = [i**2 for i in range(1,11)]\n",
    "list_even_num = [i for i in range(1, 20) if i%2 == 0]\n",
    "print(\"List of Squares : \", list_squares)\n",
    "print()\n",
    "print(\"List of Even Numbers : \", list_even_num)\n",
    "print()\n",
    "words = [\"cat\", \"elephant\", \"dog\", \"tiger\", \"mouse\"]\n",
    "words = [i for i in words if len(i) <= 5]\n",
    "print(\"The words that contain letters only lessthan or equal  to 5 : \", words)"
   ]
  },
  {
   "cell_type": "markdown",
   "id": "e6a4c148-260c-4aee-a3f6-5608d1b76180",
   "metadata": {},
   "source": [
    "# Exercise 9 :"
   ]
  },
  {
   "cell_type": "code",
   "execution_count": 44,
   "id": "91032b1b-3348-4483-a426-a05a0de67119",
   "metadata": {},
   "outputs": [
    {
     "name": "stdout",
     "output_type": "stream",
     "text": [
      "List :  [1, 4, 9, 16, 25, 36, 49, 64, 81, 100]\n",
      "\n",
      "After Adding an Element: [1, 4, 9, 16, 25, 36, 49, 64, 81, 100, 1000]\n",
      "\n",
      "After Removing an Element: [1, 4, 9, 16, 25, 36, 49, 64, 81, 1000]\n",
      "\n",
      "First 5 Elements: [1, 4, 9, 16, 25]\n",
      "\n",
      "Sorted List: [1, 4, 9, 16, 25, 36, 49, 64, 81, 1000]\n",
      "\n",
      "After Concatenation :  [1, 4, 9, 16, 25, 36, 49, 64, 81, 1000, 1, 2, 3, 4, 5]\n",
      "\n",
      "Length of the list  : 10\n",
      "Sum of all elements in the list :  1285\n",
      "\n"
     ]
    },
    {
     "name": "stdin",
     "output_type": "stream",
     "text": [
      "Enter the number to find in the list :  64\n"
     ]
    },
    {
     "name": "stdout",
     "output_type": "stream",
     "text": [
      "The given number is not in the list .\n",
      "\n",
      "max value in list :  1000\n",
      "\n",
      "min value in list :  1\n",
      "\n",
      "The new reversed list of only even squares :  [10, 8, 6, 4, 2]\n"
     ]
    }
   ],
   "source": [
    "List = [i**2 for i in range(1,11)]\n",
    "print(\"List : \", List)\n",
    "print()\n",
    "List.append(1000)\n",
    "print(\"After Adding an Element:\", List)\n",
    "print()\n",
    "List.remove(100)\n",
    "print(\"After Removing an Element:\", List)\n",
    "print()\n",
    "List_slice = List[:5]\n",
    "print(\"First 5 Elements:\", List_slice)\n",
    "print()\n",
    "List.sort()\n",
    "print(\"Sorted List:\", List)\n",
    "List_2 = [1, 2, 3, 4, 5]\n",
    "List_Con = List+List_2\n",
    "print(\"\\nAfter Concatenation : \", List_Con)\n",
    "print(\"\\nLength of the list  :\", len(List))\n",
    "s =0\n",
    "for i in range(len(List)):\n",
    "    s += List[i]\n",
    "print(\"Sum of all elements in the list : \", s)\n",
    "print()\n",
    "a = int(input(\"Enter the number to find in the list : \"))\n",
    "for i in range(len(List)):\n",
    "    if List[i] == a :\n",
    "        print(\"The given number is in the list .\")\n",
    "        break\n",
    "    else:\n",
    "        print(\"The given number is not in the list .\")\n",
    "        break\n",
    "print()\n",
    "print(\"max value in list : \", max(List))\n",
    "print(\"\\nmin value in list : \", min(List))\n",
    "new_List = [i for i in range(2,11,2)]\n",
    "print(\"\\nThe new reversed list of only even squares : \", new_List[ : : -1])"
   ]
  },
  {
   "cell_type": "markdown",
   "id": "fcb110fa-9be9-44bb-a7e1-f3afedcbccc8",
   "metadata": {},
   "source": [
    "# Exercise 10 :"
   ]
  },
  {
   "cell_type": "code",
   "execution_count": 47,
   "id": "e3310d42-1fb0-4522-a664-d9ab3cb5d555",
   "metadata": {},
   "outputs": [
    {
     "name": "stdout",
     "output_type": "stream",
     "text": [
      "Name :  Vijesh\n",
      "Age :  20\n"
     ]
    }
   ],
   "source": [
    "person_info = {\n",
    "    \"name\" : \"Vijesh\",\n",
    "    \"age\" : 20,\n",
    "    \"city\" : \"Kulasehkaram\",\n",
    "    \"occupation\" : None\n",
    "}\n",
    "print(\"Name : \", person_info[\"name\"])\n",
    "print(\"Age : \", person_info[\"age\"])"
   ]
  },
  {
   "cell_type": "markdown",
   "id": "01b5c5d9-e117-48fa-8283-f0b57dcb5488",
   "metadata": {},
   "source": [
    "# Exercise 11 :"
   ]
  },
  {
   "cell_type": "code",
   "execution_count": 50,
   "id": "488fdac3-9e63-4d4e-a724-29fc376a2547",
   "metadata": {},
   "outputs": [
    {
     "name": "stdout",
     "output_type": "stream",
     "text": [
      "Keys: dict_keys(['Ram', 'Vijesh'])\n",
      "Values: dict_values(['o', 'A+'])\n",
      "Items: dict_items([('Ram', 'o'), ('Vijesh', 'A+')])\n",
      "\n",
      "Second item: ('Vijesh', 'A+')\n"
     ]
    }
   ],
   "source": [
    "student_grades = { \"Ram\" : \"o\",\"Vijesh\" : \"A+\" }\n",
    "print(\"Keys:\", student_grades.keys())     \n",
    "print(\"Values:\", student_grades.values())  \n",
    "print(\"Items:\", student_grades.items()) \n",
    "print()\n",
    "items_list = list(student_grades.items())\n",
    "print(\"Second item:\", items_list[1])"
   ]
  },
  {
   "cell_type": "markdown",
   "id": "ce8f37d1-17ab-4b79-9110-3da612eb2dc4",
   "metadata": {},
   "source": [
    "# Exercise 12 :"
   ]
  },
  {
   "cell_type": "code",
   "execution_count": 53,
   "id": "4a1513a1-864f-4453-a4d9-ac3c3607cfdf",
   "metadata": {},
   "outputs": [
    {
     "name": "stdout",
     "output_type": "stream",
     "text": [
      "{'Audi A6': 6500000}\n"
     ]
    }
   ],
   "source": [
    "car_inventory = { \"BMW\" : 10000000, \"Tesla\" : 2500000}\n",
    "car_inventory[\"Audi A6\"] = 6500000\n",
    "del car_inventory[\"Tesla\"]\n",
    "car_inventory.pop(\"BMW\")\n",
    "print(car_inventory)"
   ]
  },
  {
   "cell_type": "markdown",
   "id": "20da8080-dad2-497f-9418-b8b8a4d22142",
   "metadata": {},
   "source": [
    "# Exercise 13 :"
   ]
  },
  {
   "cell_type": "code",
   "execution_count": 56,
   "id": "bf488047-e77e-4bb8-8034-517608786f71",
   "metadata": {},
   "outputs": [
    {
     "name": "stdout",
     "output_type": "stream",
     "text": [
      "{'India': 'Delhi', 'France': 'paris'}\n"
     ]
    }
   ],
   "source": [
    "country_capitals = { \"India\" : \"Delhi\", \"France\" : \"Landon\"}\n",
    "country_capitals.update({\"France\" : \"paris\"})\n",
    "print(country_capitals) "
   ]
  },
  {
   "cell_type": "markdown",
   "id": "c3d017ad-9a1f-425d-b9d3-cd240efcde21",
   "metadata": {},
   "source": [
    "# Exercise 14 :"
   ]
  },
  {
   "cell_type": "code",
   "execution_count": 59,
   "id": "8ba9ca92-3e8d-42b1-9477-242990b71d21",
   "metadata": {},
   "outputs": [
    {
     "name": "stdout",
     "output_type": "stream",
     "text": [
      "Student Vijesh scored 100\n",
      "Student Abi scored 99\n",
      "Student Sreedev scored 98\n"
     ]
    }
   ],
   "source": [
    "student_scores = { \"Vijesh\" : 100, \"Abi\" : 99, \"Sreedev\" : 98 }\n",
    "for x, y in student_scores.items():\n",
    "    print(f\"Student {x} scored {y}\")"
   ]
  },
  {
   "cell_type": "markdown",
   "id": "23c63284-15cd-4f8b-b2a2-7c01a79ea0f0",
   "metadata": {},
   "source": [
    "# Exercise 15 :"
   ]
  },
  {
   "cell_type": "code",
   "execution_count": 62,
   "id": "16846d18-c9e8-44cb-b9b1-cfb67361a130",
   "metadata": {},
   "outputs": [
    {
     "name": "stdout",
     "output_type": "stream",
     "text": [
      "{\"Employee's id\": 1234567890, 'Name': 'Vijesh', 'Department': 'Software Development', 'salary': None, 'position': 'Student', 'address': '123 Main St, T-Nagar'}\n"
     ]
    }
   ],
   "source": [
    "employee_details = { \"Employee's id\" : 1234567890, \"Name\" : \"Vijesh\", \"Department\" : \"ECE\"}\n",
    "employee_details[\"salary\"] = None\n",
    "employee_details[\"position\"] = \"Student\"\n",
    "employee_details.update({\"Department\": \"Software Development\", \"address\": \"123 Main St, T-Nagar\"})\n",
    "print(employee_details)"
   ]
  },
  {
   "cell_type": "markdown",
   "id": "d419f6cb-afac-4757-85d8-a1651b51d614",
   "metadata": {},
   "source": [
    "# Exercise 16 :"
   ]
  },
  {
   "cell_type": "code",
   "execution_count": 65,
   "id": "90f54ead-85df-4d62-9e3b-31588f412cb6",
   "metadata": {},
   "outputs": [
    {
     "name": "stdout",
     "output_type": "stream",
     "text": [
      "Merged Dictionary:  {'India': 'Delhi', 'Germany': 'Berlin'}\n"
     ]
    }
   ],
   "source": [
    "dict_1 = {\"India\" : \"Delhi\"}\n",
    "dict_2 = {'Germany': 'Berlin'}\n",
    "dict_1.update(dict_2)\n",
    "print(\"Merged Dictionary: \", dict_1)"
   ]
  }
 ],
 "metadata": {
  "kernelspec": {
   "display_name": "Python 3 (ipykernel)",
   "language": "python",
   "name": "python3"
  },
  "language_info": {
   "codemirror_mode": {
    "name": "ipython",
    "version": 3
   },
   "file_extension": ".py",
   "mimetype": "text/x-python",
   "name": "python",
   "nbconvert_exporter": "python",
   "pygments_lexer": "ipython3",
   "version": "3.12.7"
  }
 },
 "nbformat": 4,
 "nbformat_minor": 5
}
